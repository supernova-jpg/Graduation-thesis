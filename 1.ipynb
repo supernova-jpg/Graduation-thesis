{
 "cells": [
  {
   "cell_type": "code",
   "execution_count": 1,
   "metadata": {},
   "outputs": [],
   "source": [
    "import cv2\n",
    "import os\n",
    "import numpy as np\n",
    "ir_pyramid_path = 'Datasets/Test_dataset/Lp_Infrared'\n",
    "vis_pyramid_path = 'Datasets/Test_dataset/Lp_Visible'\n"
   ]
  },
  {
   "cell_type": "code",
   "execution_count": 2,
   "metadata": {},
   "outputs": [],
   "source": [
    "def sameSize(img1, img2):   \n",
    "    rows, cols, dpt = img2.shape  \n",
    "    dst = img1[:rows,:cols]  \n",
    "    return dst  "
   ]
  },
  {
   "cell_type": "code",
   "execution_count": 3,
   "metadata": {},
   "outputs": [],
   "source": [
    "def Reconstruct(pyramid):\n",
    "    layer = pyramid[0]\n",
    "\n",
    "    for i in range(1,4):  \n",
    "        layer = cv2.pyrUp(layer)  \n",
    "        layer = cv2.addWeighted(sameSize(layer, pyramid[i]),1,pyramid[i],1,0)  \n",
    "    return layer"
   ]
  },
  {
   "cell_type": "code",
   "execution_count": 53,
   "metadata": {},
   "outputs": [],
   "source": [
    "level = 4\n",
    "makedir = lambda path: os.makedirs(path) if not os.path.exists(path) else None\n",
    "def execute(ir_path, vis_path):\n",
    "\n",
    "    joint_list = [y for y in os.listdir(vis_path +'/'+ str(0)) if y in os.listdir(ir_path +'/'+ str(0))]\n",
    "    weights = [0.3,0.6,0.5,0.8]\n",
    "    \n",
    "    path_test = './Datasets/Traditional_fused_Test'\n",
    "\n",
    "    path_train = './Datasets/Traditional_fused'\n",
    "\n",
    "    path_reconstruct = './Datasets/Test_dataset/0.3'\n",
    "    makedir(path_reconstruct)\n",
    "\n",
    "    for filename in joint_list[33:37]:\n",
    "        Vis_layer, Ir_layer, fused_layer = [],[],[]\n",
    "\n",
    "        for i in range(level):\n",
    "            visible = cv2.imread(vis_path +'/'+ str(i)+ '/'+filename)\n",
    "            infrared= cv2.imread(ir_path +'/'+ str(i)+ '/'+filename)\n",
    "            #infrared = cv2.IMREAD_GRAYSCALE(ir_path+'/'+ str(i)+'/'+filename)\n",
    "            #hsv = cv2.cvtColor(visible, cv2.COLOR_BGR2HSV)\n",
    "            #hsv = hsv[0]\n",
    "\n",
    "            Vis_layer.append(visible)\n",
    "            Ir_layer.append(infrared)\n",
    "\n",
    "        layer = cv2.addWeighted(Vis_layer[0], weights[0], Ir_layer[0],1-weights[0],1)\n",
    "        fused_layer.append(layer)\n",
    "        for i in range(1,level):\n",
    "            layer = cv2.max(Vis_layer[i],Ir_layer[i])\n",
    "            fused_layer.append(layer)\n",
    "\n",
    "        Fused_reconstruct = Reconstruct(fused_layer)\n",
    "        Vis_reconstruct =  Reconstruct(Vis_layer)\n",
    "\n",
    "\n",
    "        #if 'Test' in vis_path:\n",
    "            #cv2.imwrite(path_test +'/' +filename,Fused_reconstruct)  \n",
    "        #else:\n",
    "            #cv2.imwrite(path_train +'/' +filename,Fused_reconstruct) \n",
    "        cv2.imwrite(path_reconstruct +'/' +filename,Fused_reconstruct)\n",
    "\n",
    "        print(filename+\"\\tCompleted\")\n",
    "    "
   ]
  },
  {
   "cell_type": "code",
   "execution_count": 54,
   "metadata": {},
   "outputs": [
    {
     "name": "stdout",
     "output_type": "stream",
     "text": [
      "00050N.png\tCompleted\n",
      "00052N.png\tCompleted\n",
      "00053N.png\tCompleted\n",
      "00054N.png\tCompleted\n"
     ]
    }
   ],
   "source": [
    "vis_dataset_path_train, vis_dataset_path_test = './Datasets/Lp_Visible', './Datasets/Test_dataset/Lp_Visible'\n",
    "ir_dataset_path_train, ir_dataset_path_test = './Datasets/Lp_Infrared', './Datasets/Test_dataset/Lp_Infrared'\n",
    "execute(ir_dataset_path_train,vis_dataset_path_train)"
   ]
  }
 ],
 "metadata": {
  "kernelspec": {
   "display_name": "Python 3.8.8 ('base')",
   "language": "python",
   "name": "python3"
  },
  "language_info": {
   "codemirror_mode": {
    "name": "ipython",
    "version": 3
   },
   "file_extension": ".py",
   "mimetype": "text/x-python",
   "name": "python",
   "nbconvert_exporter": "python",
   "pygments_lexer": "ipython3",
   "version": "3.8.8"
  },
  "orig_nbformat": 4,
  "vscode": {
   "interpreter": {
    "hash": "ad2bdc8ecc057115af97d19610ffacc2b4e99fae6737bb82f5d7fb13d2f2c186"
   }
  }
 },
 "nbformat": 4,
 "nbformat_minor": 2
}
